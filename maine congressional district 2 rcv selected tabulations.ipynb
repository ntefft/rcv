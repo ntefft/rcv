{
 "cells": [
  {
   "cell_type": "code",
   "execution_count": 1,
   "metadata": {},
   "outputs": [],
   "source": [
    "#### Maine Congressional District 2 (2018) Ranked Choice Voting Tabulations\n",
    "# by Nathan Tefft, Ph.D., 12/3/2018\n",
    "# This notebook uses an open source platform to present selected tabulations from the Maine Congressional District 2 ranked choice ballots (obtained from https://www.maine.gov/sos/cec/elec/results/results18.html#Nov6).\n",
    "# A separate notebook (created on 11/29/2018) replicates the ranked-choice voting process\n",
    "\n",
    "# Import packages data manipulation (pandas)\n",
    "\n",
    "import pandas"
   ]
  },
  {
   "cell_type": "code",
   "execution_count": 2,
   "metadata": {},
   "outputs": [],
   "source": [
    "# Import the cleaned ballot data from the Maine Secretary of State's web site (https://www.maine.gov/sos/cec/elec/results/results18.html#Nov6)\n",
    "\n",
    "ballots = pandas.read_excel('Nov18CVRExportFINAL1.xlsx').rename(index=str, columns={\"Rep. to Congress 1st Choice District 2\": \"choice1\", \"Rep. to Congress 2nd Choice District 2\": \"choice2\", \"Rep. to Congress 3rd Choice District 2\": \"choice3\", \"Rep. to Congress 4th Choice District 2\": \"choice4\", \"Rep. to Congress 5th Choice District 2\": \"choice5\"})\n",
    "ballots = ballots.append(pandas.read_excel('Nov18CVRExportFINAL2.xlsx').rename(index=str, columns={\"Rep. to Congress 1st Choice District 2\": \"choice1\", \"Rep. to Congress 2nd Choice District 2\": \"choice2\", \"Rep. to Congress 3rd Choice District 2\": \"choice3\", \"Rep. to Congress 4th Choice District 2\": \"choice4\", \"Rep. to Congress 5th Choice District 2\": \"choice5\"}), sort=True)\n",
    "ballots = ballots.append(pandas.read_excel('Nov18CVRExportFINAL3.xlsx').rename(index=str, columns={\"Rep. to Congress 1st Choice District 2\": \"choice1\", \"Rep. to Congress 2nd Choice District 2\": \"choice2\", \"Rep. to Congress 3rd Choice District 2\": \"choice3\", \"Rep. to Congress 4th Choice District 2\": \"choice4\", \"Rep. to Congress 5th Choice District 2\": \"choice5\"}), sort=True)\n",
    "ballots = ballots.append(pandas.read_excel('UOCAVA-FINALRepCD2.xlsx').rename(index=str, columns={\"Rep. to Congress District 2 1st Choice\": \"choice1\", \"Rep. to Congress District 2 2nd Choice\": \"choice2\", \"Rep. to Congress District 2 3rd Choice\": \"choice3\", \"Rep. to Congress District 2 4th Choice\": \"choice4\", \"Rep. to Congress District 2 5th Choice\": \"choice5\"}), sort=True)\n",
    "ballots = ballots.append(pandas.read_excel('UOCAVA-AUX-CVRRepCD2.xlsx').rename(index=str, columns={\"Rep. to Congress District 2 1st Choice\": \"choice1\", \"Rep. to Congress District 2 2nd Choice\": \"choice2\", \"Rep. to Congress District 2 3rd Choice\": \"choice3\", \"Rep. to Congress District 2 4th Choice\": \"choice4\", \"Rep. to Congress District 2 5th Choice\": \"choice5\"}), sort=True)\n",
    "ballots = ballots.append(pandas.read_excel('UOCAVA2CVRRepCD2.xlsx').rename(index=str, columns={\"Rep. to Congress District 2 1st Choice\": \"choice1\", \"Rep. to Congress District 2 2nd Choice\": \"choice2\", \"Rep. to Congress District 2 3rd Choice\": \"choice3\", \"Rep. to Congress District 2 4th Choice\": \"choice4\", \"Rep. to Congress District 2 5th Choice\": \"choice5\"}), sort=True)\n",
    "ballots = ballots.append(pandas.read_excel('AUXCVRProofedCVR95RepCD2.xlsx').rename(index=str, columns={\"Rep. to Congress District 2 1st Choice\": \"choice1\", \"Rep. to Congress District 2 2nd Choice\": \"choice2\", \"Rep. to Congress District 2 3rd Choice\": \"choice3\", \"Rep. to Congress District 2 4th Choice\": \"choice4\", \"Rep. to Congress District 2 5th Choice\": \"choice5\"}), sort=True)\n",
    "ballots = ballots.append(pandas.read_excel('RepCD2-8final.xlsx').rename(index=str, columns={\"Rep. to Congress 1st Choice District 2\": \"choice1\", \"Rep. to Congress 2nd Choice District 2\": \"choice2\", \"Rep. to Congress 3rd Choice District 2\": \"choice3\", \"Rep. to Congress 4th Choice District 2\": \"choice4\", \"Rep. to Congress 5th Choice District 2\": \"choice5\"}), sort=True)\n"
   ]
  },
  {
   "cell_type": "code",
   "execution_count": 3,
   "metadata": {},
   "outputs": [],
   "source": [
    "# Remove extra characters and spaces from candidate names, and store ballots in choices dataframe for rules implementation\n",
    "\n",
    "choices = pandas.DataFrame()\n",
    "choices['1'] = ballots['choice1'].str.replace(\"\\(5931\\)\",\"\").str.replace(\"\\(5471\\)\",\"\").str.strip()\n",
    "choices['2'] = ballots['choice2'].str.strip()\n",
    "choices['3'] = ballots['choice3'].str.strip()\n",
    "choices['4'] = ballots['choice4'].str.strip()\n",
    "choices['5'] = ballots['choice5'].str.strip()\n"
   ]
  },
  {
   "cell_type": "code",
   "execution_count": 4,
   "metadata": {},
   "outputs": [
    {
     "data": {
      "text/plain": [
       "296077"
      ]
     },
     "execution_count": 4,
     "metadata": {},
     "output_type": "execute_result"
    }
   ],
   "source": [
    "# Count the total number of ballots to tabulate\n",
    "\n",
    "choices['1'].count()"
   ]
  },
  {
   "cell_type": "code",
   "execution_count": 5,
   "metadata": {},
   "outputs": [
    {
     "data": {
      "text/plain": [
       "REP Poliquin, Bruce     133993\n",
       "DEM Golden, Jared F.    131822\n",
       "Bond, Tiffany L.         16415\n",
       "Hoar, William R.S.        6782\n",
       "undervote                 6641\n",
       "overvote                   424\n",
       "Name: 1, dtype: int64"
      ]
     },
     "execution_count": 5,
     "metadata": {},
     "output_type": "execute_result"
    }
   ],
   "source": [
    "# Tabulate the raw counts of first round choices\n",
    "\n",
    "choices['1'].value_counts()"
   ]
  },
  {
   "cell_type": "code",
   "execution_count": 6,
   "metadata": {},
   "outputs": [
    {
     "data": {
      "text/plain": [
       "Bond, Tiffany L.        2535\n",
       "undervote               2061\n",
       "DEM Golden, Jared F.    1172\n",
       "REP Poliquin, Bruce      864\n",
       "Hoar, William R.S.       134\n",
       "overvote                  16\n",
       "Name: 2, dtype: int64"
      ]
     },
     "execution_count": 6,
     "metadata": {},
     "output_type": "execute_result"
    }
   ],
   "source": [
    "# Tabulation of 2nd choices for ballots that mark Hoar as 1st choice\n",
    "\n",
    "choices.loc[choices['1'].str.contains('Hoar, William R.S.')]['2'].value_counts()"
   ]
  },
  {
   "cell_type": "code",
   "execution_count": 7,
   "metadata": {},
   "outputs": [
    {
     "data": {
      "text/plain": [
       "DEM Golden, Jared F.    1266\n",
       "REP Poliquin, Bruce      673\n",
       "undervote                552\n",
       "Hoar, William R.S.        35\n",
       "overvote                   8\n",
       "Bond, Tiffany L.           1\n",
       "Name: 3, dtype: int64"
      ]
     },
     "execution_count": 7,
     "metadata": {},
     "output_type": "execute_result"
    }
   ],
   "source": [
    "# Tabulation of 3rd choices for ballots that mark Hoar as 1st choice and Bond as 2nd choice\n",
    "\n",
    "choices.loc[choices['1'].str.contains('Hoar, William R.S.') & choices['2'].str.contains('Bond, Tiffany L.')]['3'].value_counts()"
   ]
  },
  {
   "cell_type": "code",
   "execution_count": 8,
   "metadata": {},
   "outputs": [
    {
     "data": {
      "text/plain": [
       "Hoar, William R.S.      5470\n",
       "DEM Golden, Jared F.    4760\n",
       "undervote               4281\n",
       "REP Poliquin, Bruce     1595\n",
       "Bond, Tiffany L.         275\n",
       "overvote                  34\n",
       "Name: 2, dtype: int64"
      ]
     },
     "execution_count": 8,
     "metadata": {},
     "output_type": "execute_result"
    }
   ],
   "source": [
    "# Tabulation of 2nd choices for ballots that mark Bond as 1st choice\n",
    "\n",
    "choices.loc[choices['1'].str.contains('Bond, Tiffany L.')]['2'].value_counts()"
   ]
  },
  {
   "cell_type": "code",
   "execution_count": 9,
   "metadata": {},
   "outputs": [
    {
     "data": {
      "text/plain": [
       "DEM Golden, Jared F.    2793\n",
       "REP Poliquin, Bruce     1325\n",
       "undervote               1274\n",
       "Bond, Tiffany L.          40\n",
       "overvote                  21\n",
       "Hoar, William R.S.        17\n",
       "Name: 3, dtype: int64"
      ]
     },
     "execution_count": 9,
     "metadata": {},
     "output_type": "execute_result"
    }
   ],
   "source": [
    "# Tabulation of 3rd choices for ballots that mark Bond as 1st choice and Hoar as 2nd choice\n",
    "\n",
    "choices.loc[choices['1'].str.contains('Bond, Tiffany L.') & choices['2'].str.contains('Hoar, William R.S.')]['3'].value_counts()"
   ]
  },
  {
   "cell_type": "code",
   "execution_count": null,
   "metadata": {},
   "outputs": [],
   "source": []
  }
 ],
 "metadata": {
  "kernelspec": {
   "display_name": "Python 3",
   "language": "python",
   "name": "python3"
  },
  "language_info": {
   "codemirror_mode": {
    "name": "ipython",
    "version": 3
   },
   "file_extension": ".py",
   "mimetype": "text/x-python",
   "name": "python",
   "nbconvert_exporter": "python",
   "pygments_lexer": "ipython3",
   "version": "3.7.1"
  }
 },
 "nbformat": 4,
 "nbformat_minor": 2
}
