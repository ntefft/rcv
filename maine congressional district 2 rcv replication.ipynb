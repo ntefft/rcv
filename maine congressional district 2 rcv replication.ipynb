{
 "cells": [
  {
   "cell_type": "code",
   "execution_count": 1,
   "metadata": {},
   "outputs": [],
   "source": [
    "#### Maine Congressional District 2 (2018) Ranked Choice Voting Replication\n",
    "# by Nathan Tefft, Ph.D., 11/29/2018\n",
    "# This notebook uses an open source platform to replicate the Maine Congressional District 2 ranked choice voting results certified to the Governor on 11/26/18 (obtained from https://www.maine.gov/sos/cec/elec/results/results18.html#Nov6).\n",
    "# The replication implements the rank-choiced voting rules as provided in 21-A M.R.S.A. Chapter 723-A, sub-chapter 1, described at https://www.maine.gov/sos/cec/elec/upcoming/pdf/250rcvnew.pdf\n",
    "# Although the rules allow for a \"batch elimination\" based on mathematical impossibility (used by the Secretary of State's office), I simply run subsequent instant runoffs to demonstrate the equivalence of the two approaches\n",
    "# The replication was specifically written for the Maine Congressional District 2 race (2018), so it would need to be modified to replicate other races\n",
    "# The code may not be particularly efficient, and I hope to one day improve its efficiency, but it transparently implements the process for those familiar with the Python language\n",
    "\n",
    "\n",
    "# Import packages for mathematical operations (numpy) and data manipulation (pandas)\n",
    "\n",
    "import numpy\n",
    "import pandas"
   ]
  },
  {
   "cell_type": "code",
   "execution_count": 2,
   "metadata": {},
   "outputs": [],
   "source": [
    "# Import the cleaned ballot data from the Maine Secretary of State's web site (https://www.maine.gov/sos/cec/elec/results/results18.html#Nov6)\n",
    "\n",
    "ballots = pandas.read_excel('Nov18CVRExportFINAL1.xlsx').rename(index=str, columns={\"Rep. to Congress 1st Choice District 2\": \"choice1\", \"Rep. to Congress 2nd Choice District 2\": \"choice2\", \"Rep. to Congress 3rd Choice District 2\": \"choice3\", \"Rep. to Congress 4th Choice District 2\": \"choice4\", \"Rep. to Congress 5th Choice District 2\": \"choice5\"})\n",
    "ballots = ballots.append(pandas.read_excel('Nov18CVRExportFINAL2.xlsx').rename(index=str, columns={\"Rep. to Congress 1st Choice District 2\": \"choice1\", \"Rep. to Congress 2nd Choice District 2\": \"choice2\", \"Rep. to Congress 3rd Choice District 2\": \"choice3\", \"Rep. to Congress 4th Choice District 2\": \"choice4\", \"Rep. to Congress 5th Choice District 2\": \"choice5\"}), sort=True)\n",
    "ballots = ballots.append(pandas.read_excel('Nov18CVRExportFINAL3.xlsx').rename(index=str, columns={\"Rep. to Congress 1st Choice District 2\": \"choice1\", \"Rep. to Congress 2nd Choice District 2\": \"choice2\", \"Rep. to Congress 3rd Choice District 2\": \"choice3\", \"Rep. to Congress 4th Choice District 2\": \"choice4\", \"Rep. to Congress 5th Choice District 2\": \"choice5\"}), sort=True)\n",
    "ballots = ballots.append(pandas.read_excel('UOCAVA-FINALRepCD2.xlsx').rename(index=str, columns={\"Rep. to Congress District 2 1st Choice\": \"choice1\", \"Rep. to Congress District 2 2nd Choice\": \"choice2\", \"Rep. to Congress District 2 3rd Choice\": \"choice3\", \"Rep. to Congress District 2 4th Choice\": \"choice4\", \"Rep. to Congress District 2 5th Choice\": \"choice5\"}), sort=True)\n",
    "ballots = ballots.append(pandas.read_excel('UOCAVA-AUX-CVRRepCD2.xlsx').rename(index=str, columns={\"Rep. to Congress District 2 1st Choice\": \"choice1\", \"Rep. to Congress District 2 2nd Choice\": \"choice2\", \"Rep. to Congress District 2 3rd Choice\": \"choice3\", \"Rep. to Congress District 2 4th Choice\": \"choice4\", \"Rep. to Congress District 2 5th Choice\": \"choice5\"}), sort=True)\n",
    "ballots = ballots.append(pandas.read_excel('UOCAVA2CVRRepCD2.xlsx').rename(index=str, columns={\"Rep. to Congress District 2 1st Choice\": \"choice1\", \"Rep. to Congress District 2 2nd Choice\": \"choice2\", \"Rep. to Congress District 2 3rd Choice\": \"choice3\", \"Rep. to Congress District 2 4th Choice\": \"choice4\", \"Rep. to Congress District 2 5th Choice\": \"choice5\"}), sort=True)\n",
    "ballots = ballots.append(pandas.read_excel('AUXCVRProofedCVR95RepCD2.xlsx').rename(index=str, columns={\"Rep. to Congress District 2 1st Choice\": \"choice1\", \"Rep. to Congress District 2 2nd Choice\": \"choice2\", \"Rep. to Congress District 2 3rd Choice\": \"choice3\", \"Rep. to Congress District 2 4th Choice\": \"choice4\", \"Rep. to Congress District 2 5th Choice\": \"choice5\"}), sort=True)\n",
    "ballots = ballots.append(pandas.read_excel('RepCD2-8final.xlsx').rename(index=str, columns={\"Rep. to Congress 1st Choice District 2\": \"choice1\", \"Rep. to Congress 2nd Choice District 2\": \"choice2\", \"Rep. to Congress 3rd Choice District 2\": \"choice3\", \"Rep. to Congress 4th Choice District 2\": \"choice4\", \"Rep. to Congress 5th Choice District 2\": \"choice5\"}), sort=True)\n"
   ]
  },
  {
   "cell_type": "code",
   "execution_count": 3,
   "metadata": {},
   "outputs": [],
   "source": [
    "# Remove extra characters and spaces from candidate names, and store ballots in choices dataframe for rules implementation\n",
    "\n",
    "choices = pandas.DataFrame()\n",
    "choices['1'] = ballots['choice1'].str.replace(\"\\(5931\\)\",\"\").str.replace(\"\\(5471\\)\",\"\").str.strip()\n",
    "choices['2'] = ballots['choice2'].str.strip()\n",
    "choices['3'] = ballots['choice3'].str.strip()\n",
    "choices['4'] = ballots['choice4'].str.strip()\n",
    "choices['5'] = ballots['choice5'].str.strip()\n"
   ]
  },
  {
   "cell_type": "code",
   "execution_count": 4,
   "metadata": {},
   "outputs": [
    {
     "data": {
      "text/plain": [
       "296077"
      ]
     },
     "execution_count": 4,
     "metadata": {},
     "output_type": "execute_result"
    }
   ],
   "source": [
    "# Count the total number of ballots to tabulate\n",
    "\n",
    "choices['1'].count()"
   ]
  },
  {
   "cell_type": "code",
   "execution_count": 5,
   "metadata": {},
   "outputs": [
    {
     "data": {
      "text/plain": [
       "REP Poliquin, Bruce     133993\n",
       "DEM Golden, Jared F.    131822\n",
       "Bond, Tiffany L.         16415\n",
       "Hoar, William R.S.        6782\n",
       "undervote                 6641\n",
       "overvote                   424\n",
       "Name: 1, dtype: int64"
      ]
     },
     "execution_count": 5,
     "metadata": {},
     "output_type": "execute_result"
    }
   ],
   "source": [
    "# Tabulate the raw counts of first round choices\n",
    "\n",
    "choices['1'].value_counts()"
   ]
  },
  {
   "cell_type": "code",
   "execution_count": 6,
   "metadata": {},
   "outputs": [
    {
     "data": {
      "text/plain": [
       "REP Poliquin, Bruce     45.256133\n",
       "DEM Golden, Jared F.    44.522877\n",
       "Bond, Tiffany L.         5.544166\n",
       "Hoar, William R.S.       2.290620\n",
       "undervote                2.242998\n",
       "overvote                 0.143206\n",
       "Name: 1, dtype: float64"
      ]
     },
     "execution_count": 6,
     "metadata": {},
     "output_type": "execute_result"
    }
   ],
   "source": [
    "# Tabulate the raw percents of first round choices\n",
    "\n",
    "100*choices['1'].value_counts()/choices['1'].value_counts().sum()"
   ]
  },
  {
   "cell_type": "code",
   "execution_count": 7,
   "metadata": {},
   "outputs": [],
   "source": [
    "# Before conducting the first instant runoff, implement rules regarding missing and multiple votes per rank (as provided in 21-A M.R.S.A. Chapter 723-A, sub-chapter 1, described at https://www.maine.gov/sos/cec/elec/upcoming/pdf/250rcvnew.pdf)\n",
    "# Two consecutive skipped rankings: When a voter does not mark two or more consecutive rankings, then the ballot is deemed exhausted for that contest, and no subsequent candidate rankings on that ballot are counted\n",
    "\n",
    "choices['3'] = numpy.where(choices['1'].str.contains('undervote') & choices['2'].str.contains('undervote'),'invalidated',choices['3'])\n",
    "choices['4'] = numpy.where(choices['3'].str.contains('invalidated') | (choices['2'].str.contains('undervote') & choices['3'].str.contains('undervote')),'invalidated',choices['4'])\n",
    "choices['5'] = numpy.where(choices['3'].str.contains('invalidated') | choices['4'].str.contains('invalidated') | (choices['3'].str.contains('undervote') & choices['4'].str.contains('undervote')),'invalidated',choices['5'])\n"
   ]
  },
  {
   "cell_type": "code",
   "execution_count": 8,
   "metadata": {},
   "outputs": [],
   "source": [
    "# An overvote (when a voter marks more than one candidate for the same ranking) invalidates the overvoted rankings and all subsequent rankings marked for that contest on the ballot.\n",
    "\n",
    "choices['2'] = numpy.where(choices['1'].str.contains('overvote|invalidated'),'invalidated',choices['2'])\n",
    "choices['3'] = numpy.where(choices['2'].str.contains('overvote|invalidated'),'invalidated',choices['3'])\n",
    "choices['4'] = numpy.where(choices['3'].str.contains('overvote|invalidated'),'invalidated',choices['4'])\n",
    "choices['5'] = numpy.where(choices['4'].str.contains('overvote|invalidated'),'invalidated',choices['5'])\n"
   ]
  },
  {
   "cell_type": "code",
   "execution_count": 9,
   "metadata": {},
   "outputs": [
    {
     "data": {
      "text/plain": [
       "REP Poliquin, Bruce     134184\n",
       "DEM Golden, Jared F.    132013\n",
       "Bond, Tiffany L.         16552\n",
       "Hoar, William R.S.        6875\n",
       "undervote                 6018\n",
       "overvote                   435\n",
       "Name: runoff0, dtype: int64"
      ]
     },
     "execution_count": 9,
     "metadata": {},
     "output_type": "execute_result"
    }
   ],
   "source": [
    "#### FIRST ROUND (ZERO RUNOFF)\n",
    "# Being with the \"zero\" runoff, which tallies the first choice, moving to the second choice if there is a single undervote, according to the \"single skipped ranking\" rule\n",
    "choices['runoff0'] = numpy.where(choices['1'].str.contains('undervote'),choices['2'],choices['1'])\n",
    "\n",
    "# Tabulate all ballot statuses after this runoff\n",
    "choices['runoff0'].value_counts()\n"
   ]
  },
  {
   "cell_type": "code",
   "execution_count": 10,
   "metadata": {},
   "outputs": [
    {
     "data": {
      "text/plain": [
       "True     289624\n",
       "False      6453\n",
       "Name: continuing0, dtype: int64"
      ]
     },
     "execution_count": 10,
     "metadata": {},
     "output_type": "execute_result"
    }
   ],
   "source": [
    "# Mark ballots that are counted in this runoff as \"continuing\"\n",
    "choices['continuing0'] = ~choices['runoff0'].isin(['exhausted','overvote','undervote','invalidated'])\n",
    "\n",
    "# Total of ballots that are counted in this runoff\n",
    "choices['continuing0'].value_counts()"
   ]
  },
  {
   "cell_type": "code",
   "execution_count": 11,
   "metadata": {},
   "outputs": [
    {
     "data": {
      "text/plain": [
       "REP Poliquin, Bruce     46.330415\n",
       "DEM Golden, Jared F.    45.580822\n",
       "Bond, Tiffany L.         5.714996\n",
       "Hoar, William R.S.       2.373767\n",
       "Name: runoff0, dtype: float64"
      ]
     },
     "execution_count": 11,
     "metadata": {},
     "output_type": "execute_result"
    }
   ],
   "source": [
    "# Calculate and display percents of vote for each candidate among ballots counted in this runoff\n",
    "counts0 = choices.loc[choices['continuing0']]['runoff0'].value_counts()\n",
    "100*counts0/counts0.sum()\n"
   ]
  },
  {
   "cell_type": "code",
   "execution_count": 12,
   "metadata": {},
   "outputs": [
    {
     "data": {
      "text/plain": [
       "REP Poliquin, Bruce     135073\n",
       "DEM Golden, Jared F.    133216\n",
       "Bond, Tiffany L.         19173\n",
       "invalidated               8056\n",
       "overvote                   456\n",
       "exhausted                   94\n",
       "undervote                    9\n",
       "Name: runoff1, dtype: int64"
      ]
     },
     "execution_count": 12,
     "metadata": {},
     "output_type": "execute_result"
    }
   ],
   "source": [
    "#### FIRST AUTOMATIC RUNOFF\n",
    "# Using the results from the first round, eliminate the last place vote-getter by assigning their voters' next-highest ranked choice, according to the rules referenced above\n",
    "\n",
    "choices['runoff1'] = choices['runoff0']\n",
    "choices['runoff1'] = numpy.where(choices['runoff1'].str.contains('undervote|Hoar, William R.S.'),choices['2'],choices['runoff1'])\n",
    "choices['runoff1'] = numpy.where(choices['runoff1'].str.contains('undervote|Hoar, William R.S.'),choices['3'],choices['runoff1'])\n",
    "choices['runoff1'] = numpy.where(choices['runoff1'].str.contains('undervote|Hoar, William R.S.'),choices['4'],choices['runoff1'])\n",
    "choices['runoff1'] = numpy.where(choices['runoff1'].str.contains('undervote|Hoar, William R.S.'),choices['5'],choices['runoff1'])\n",
    "choices['runoff1'] = numpy.where(choices['runoff1'].str.contains('Hoar, William R.S.'),'exhausted',choices['runoff1'])\n",
    "\n",
    "# Tabulate all ballot statuses after this runoff\n",
    "choices['runoff1'].value_counts()\n"
   ]
  },
  {
   "cell_type": "code",
   "execution_count": 13,
   "metadata": {},
   "outputs": [
    {
     "data": {
      "text/plain": [
       "True     287462\n",
       "False      8615\n",
       "Name: continuing1, dtype: int64"
      ]
     },
     "execution_count": 13,
     "metadata": {},
     "output_type": "execute_result"
    }
   ],
   "source": [
    "# Mark ballots that are counted in this runoff as \"continuing\"\n",
    "choices['continuing1'] = ~choices['runoff1'].isin(['exhausted','overvote','undervote','invalidated'])\n",
    "\n",
    "# Total of ballots that are counted in this runoff\n",
    "choices['continuing1'].value_counts()"
   ]
  },
  {
   "cell_type": "code",
   "execution_count": 14,
   "metadata": {},
   "outputs": [
    {
     "data": {
      "text/plain": [
       "REP Poliquin, Bruce     46.988124\n",
       "DEM Golden, Jared F.    46.342125\n",
       "Bond, Tiffany L.         6.669751\n",
       "Name: runoff1, dtype: float64"
      ]
     },
     "execution_count": 14,
     "metadata": {},
     "output_type": "execute_result"
    }
   ],
   "source": [
    "# Calculate and display percents of vote for each candidate among ballots counted in this runoff\n",
    "counts1 = choices.loc[choices['continuing1']]['runoff1'].value_counts()\n",
    "100*counts1/counts1.sum()"
   ]
  },
  {
   "cell_type": "code",
   "execution_count": 15,
   "metadata": {},
   "outputs": [
    {
     "data": {
      "text/plain": [
       "DEM Golden, Jared F.    142440\n",
       "REP Poliquin, Bruce     138931\n",
       "invalidated              13745\n",
       "overvote                   533\n",
       "exhausted                  342\n",
       "undervote                   86\n",
       "Name: runoff2, dtype: int64"
      ]
     },
     "execution_count": 15,
     "metadata": {},
     "output_type": "execute_result"
    }
   ],
   "source": [
    "#### SECOND AUTOMATIC RUNOFF\n",
    "# Using the results from the first runoff, eliminate the last place vote-getter by assigning their voters' next-highest ranked choice, according to the rules referenced above\n",
    "\n",
    "choices['runoff2'] = choices['runoff1']\n",
    "choices['runoff2'] = numpy.where(choices['runoff2'].str.contains('undervote|Hoar, William R.S.|Bond, Tiffany L.'),choices['2'],choices['runoff2'])\n",
    "choices['runoff2'] = numpy.where(choices['runoff2'].str.contains('undervote|Hoar, William R.S.|Bond, Tiffany L.'),choices['3'],choices['runoff2'])\n",
    "choices['runoff2'] = numpy.where(choices['runoff2'].str.contains('undervote|Hoar, William R.S.|Bond, Tiffany L.'),choices['4'],choices['runoff2'])\n",
    "choices['runoff2'] = numpy.where(choices['runoff2'].str.contains('undervote|Hoar, William R.S.|Bond, Tiffany L.'),choices['5'],choices['runoff2'])\n",
    "choices['runoff2'] = numpy.where(choices['runoff2'].str.contains('Hoar, William R.S.|Bond, Tiffany L.'),'exhausted',choices['runoff2'])\n",
    "\n",
    "# Tabulate all ballot statuses after this runoff\n",
    "choices['runoff2'].value_counts()"
   ]
  },
  {
   "cell_type": "code",
   "execution_count": 16,
   "metadata": {},
   "outputs": [
    {
     "data": {
      "text/plain": [
       "True     281371\n",
       "False     14706\n",
       "Name: continuing2, dtype: int64"
      ]
     },
     "execution_count": 16,
     "metadata": {},
     "output_type": "execute_result"
    }
   ],
   "source": [
    "# Mark ballots that are counted in this runoff as \"continuing\"\n",
    "choices['continuing2'] = ~choices['runoff2'].isin(['exhausted','overvote','undervote','invalidated'])\n",
    "\n",
    "# Total of ballots that are counted in this runoff\n",
    "choices['continuing2'].value_counts()"
   ]
  },
  {
   "cell_type": "code",
   "execution_count": 17,
   "metadata": {
    "scrolled": true
   },
   "outputs": [
    {
     "data": {
      "text/plain": [
       "DEM Golden, Jared F.    50.623554\n",
       "REP Poliquin, Bruce     49.376446\n",
       "Name: runoff2, dtype: float64"
      ]
     },
     "execution_count": 17,
     "metadata": {},
     "output_type": "execute_result"
    }
   ],
   "source": [
    "# Calculate and display percents of vote for each candidate among ballots counted in this runoff\n",
    "counts2 = choices.loc[choices['continuing2']]['runoff2'].value_counts()\n",
    "100*counts2/counts2.sum()"
   ]
  },
  {
   "cell_type": "code",
   "execution_count": null,
   "metadata": {},
   "outputs": [],
   "source": []
  }
 ],
 "metadata": {
  "kernelspec": {
   "display_name": "Python 3",
   "language": "python",
   "name": "python3"
  },
  "language_info": {
   "codemirror_mode": {
    "name": "ipython",
    "version": 3
   },
   "file_extension": ".py",
   "mimetype": "text/x-python",
   "name": "python",
   "nbconvert_exporter": "python",
   "pygments_lexer": "ipython3",
   "version": "3.7.1"
  }
 },
 "nbformat": 4,
 "nbformat_minor": 2
}
